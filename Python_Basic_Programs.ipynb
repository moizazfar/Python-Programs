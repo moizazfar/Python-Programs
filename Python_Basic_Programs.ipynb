{
  "nbformat": 4,
  "nbformat_minor": 0,
  "metadata": {
    "colab": {
      "provenance": []
    },
    "kernelspec": {
      "name": "python3",
      "display_name": "Python 3"
    },
    "language_info": {
      "name": "python"
    }
  },
  "cells": [
    {
      "cell_type": "markdown",
      "source": [
        "**1. Hello World Program:**"
      ],
      "metadata": {
        "id": "UV21n3snzZt-"
      }
    },
    {
      "cell_type": "code",
      "source": [
        "print(\"Hello, World!\")"
      ],
      "metadata": {
        "colab": {
          "base_uri": "https://localhost:8080/"
        },
        "id": "up4fTOTczfWo",
        "outputId": "06f34fb9-acd6-44cc-8232-05e45c062d7a"
      },
      "execution_count": null,
      "outputs": [
        {
          "output_type": "stream",
          "name": "stdout",
          "text": [
            "Hello, World!\n"
          ]
        }
      ]
    },
    {
      "cell_type": "markdown",
      "source": [
        "**2. Simple Calculator:**"
      ],
      "metadata": {
        "id": "1UOKScaazmjs"
      }
    },
    {
      "cell_type": "code",
      "source": [
        "x = int(input(\"Enter a number: \"))\n",
        "y = int(input(\"Enter another number: \"))\n",
        "sum = x + y\n",
        "print(f\"The sum of {x} and {y} is: {sum}\")\n",
        "difference = x - y\n",
        "print(f\"The difference of {x} and {y} is: {difference}\")\n",
        "product = x * y\n",
        "print(f\"The product of {x} and {y} is: {product}\")\n",
        "division = x / y\n",
        "print(f\"The division of {x} by {y} is: {division}\")"
      ],
      "metadata": {
        "colab": {
          "base_uri": "https://localhost:8080/"
        },
        "id": "e_n3OVmAzuab",
        "outputId": "8ae00d10-ce08-4c4e-b45f-1833a935fb9e"
      },
      "execution_count": null,
      "outputs": [
        {
          "output_type": "stream",
          "name": "stdout",
          "text": [
            "Enter a number: 5\n",
            "Enter another number: 3\n",
            "The sum of 5 and 3 is: 8\n",
            "The difference of 5 and 3 is: 2\n",
            "The product of 5 and 3 is: 15\n",
            "The division of 5 by 3 is: 1.6666666666666667\n"
          ]
        }
      ]
    },
    {
      "cell_type": "markdown",
      "source": [
        "**3. Check for Even or Odd:**"
      ],
      "metadata": {
        "id": "OfF56JcB5DEB"
      }
    },
    {
      "cell_type": "code",
      "source": [
        "num =int(input(\"Enter a number: \"))\n",
        "if num % 2 == 0:\n",
        "  print(f\"{num} is an even number.\")\n",
        "else:\n",
        "  print(f\"{num} is an odd number.\")"
      ],
      "metadata": {
        "colab": {
          "base_uri": "https://localhost:8080/"
        },
        "id": "X3RjwkyL5ZJE",
        "outputId": "69014a4a-8a67-4076-c84e-2a9605b6d445"
      },
      "execution_count": null,
      "outputs": [
        {
          "output_type": "stream",
          "name": "stdout",
          "text": [
            "Enter a number: 6\n",
            "6 is an even number.\n"
          ]
        }
      ]
    },
    {
      "cell_type": "markdown",
      "source": [
        "**4. Factorial of a Number:**"
      ],
      "metadata": {
        "id": "glPjn8uS0Wtp"
      }
    },
    {
      "cell_type": "code",
      "source": [
        "# Simple Function\n",
        "def factorial(num):\n",
        "  factorial = 1\n",
        "  for i in range(1, num + 1):\n",
        "    factorial *= i\n",
        "  print(f\"The factorial of {num} is: {factorial}\")\n",
        "\n",
        "num = int(input(\"Enter any number: \"))\n",
        "factorial(num)\n",
        "\n",
        "# Recursive Function\n",
        "def factorial(n):\n",
        "  if n == 0:\n",
        "    return 1\n",
        "  else:\n",
        "    return n*factorial(n-1)\n",
        "\n",
        "n = int(input(\"Enter any number: \"))\n",
        "print(\"Factorial of a recursive function is:\",factorial(n))\n"
      ],
      "metadata": {
        "colab": {
          "base_uri": "https://localhost:8080/"
        },
        "id": "R63muQC50LD5",
        "outputId": "13fca19c-a484-43f2-9e69-eb19f0313269"
      },
      "execution_count": null,
      "outputs": [
        {
          "output_type": "stream",
          "name": "stdout",
          "text": [
            "Enter any number: 6\n",
            "The factorial of 6 is: 720\n",
            "Enter any number: 4\n",
            "Factorial of a recursive function is: 24\n"
          ]
        }
      ]
    },
    {
      "cell_type": "markdown",
      "source": [
        "**5. Check for Prime Number:**"
      ],
      "metadata": {
        "id": "kXcB1upT2m4q"
      }
    },
    {
      "cell_type": "code",
      "source": [
        "def is_prime(n):\n",
        "  if n <= 1:\n",
        "    return False\n",
        "  for i in range(2,int(n**0.5)+1):\n",
        "    if n % i ==0:\n",
        "      return False\n",
        "  return True\n",
        "\n",
        "n = int(input(\"Enter a number to check if it is prime: \"))\n",
        "if is_prime(n):\n",
        "  print(f\"{n} is a prime number.\")\n",
        "else:\n",
        "  print(f\"{n} is not a prime number.\")"
      ],
      "metadata": {
        "colab": {
          "base_uri": "https://localhost:8080/"
        },
        "id": "gPpO8HPl0R4p",
        "outputId": "4f0b698c-e117-43b4-e458-e8cf9499b616"
      },
      "execution_count": null,
      "outputs": [
        {
          "output_type": "stream",
          "name": "stdout",
          "text": [
            "Enter a number to check if it is prime: 5\n",
            "5 is a prime number.\n"
          ]
        }
      ]
    },
    {
      "cell_type": "markdown",
      "source": [
        "**6. Fibonacci Sequence:**"
      ],
      "metadata": {
        "id": "zQbNc2hC3_r_"
      }
    },
    {
      "cell_type": "code",
      "source": [
        "def fibonacci(n):\n",
        "  if n <= 1:\n",
        "    return n\n",
        "  else:\n",
        "    return fibonacci(n-1)+fibonacci(n-2)\n",
        "\n",
        "terms = int(input(\"Enter the number of terms: \"))\n",
        "print(\"Fibonacci Sequence:\")\n",
        "for i in range(terms):\n",
        "  print(fibonacci(i))\n"
      ],
      "metadata": {
        "colab": {
          "base_uri": "https://localhost:8080/"
        },
        "id": "lmXlNUbx4CeT",
        "outputId": "ac614f09-a63b-4784-8d9b-ceba9bbd73e3"
      },
      "execution_count": null,
      "outputs": [
        {
          "output_type": "stream",
          "name": "stdout",
          "text": [
            "Enter the number of terms: 8\n",
            "Fibonacci Sequence:\n",
            "0\n",
            "1\n",
            "1\n",
            "2\n",
            "3\n",
            "5\n",
            "8\n",
            "13\n"
          ]
        }
      ]
    },
    {
      "cell_type": "markdown",
      "source": [
        "**7. Area of a Circle:**"
      ],
      "metadata": {
        "id": "HJvF6bAv5tIJ"
      }
    },
    {
      "cell_type": "code",
      "source": [
        "import math\n",
        "\n",
        "radius = float(input(\"Enter the radius of a circle: \"))\n",
        "area = math.pi * (radius ** 2)\n",
        "print(\"The area of the circle is:\", area)\n"
      ],
      "metadata": {
        "colab": {
          "base_uri": "https://localhost:8080/"
        },
        "id": "CEr-Af5B5pGO",
        "outputId": "9a275523-4359-4e03-8ffe-72eee8ee7982"
      },
      "execution_count": null,
      "outputs": [
        {
          "output_type": "stream",
          "name": "stdout",
          "text": [
            "Enter the radius of a circle: 5.2\n",
            "The area of the circle is: 84.94866535306801\n"
          ]
        }
      ]
    },
    {
      "cell_type": "markdown",
      "source": [
        "**8. Simple Interest Calculator:**"
      ],
      "metadata": {
        "id": "3BTayitT-AtA"
      }
    },
    {
      "cell_type": "code",
      "source": [
        "p = float(input(\"Enter the principal amount: \"))\n",
        "r = float(input(\"Enter the rate of interest: \"))\n",
        "t = float(input(\"Enter the time period: \"))\n",
        "interest = (p * r * t) / 100\n",
        "print(\"Simple Interest:\",interest)"
      ],
      "metadata": {
        "colab": {
          "base_uri": "https://localhost:8080/"
        },
        "id": "O0JlM7qc-51x",
        "outputId": "9864208a-6d82-4342-fece-1789753ae378"
      },
      "execution_count": null,
      "outputs": [
        {
          "output_type": "stream",
          "name": "stdout",
          "text": [
            "Enter the principal amount: 1000\n",
            "Enter the rate of interest: 5.6\n",
            "Enter the time period: 3\n",
            "Simple Interest: 168.0\n"
          ]
        }
      ]
    },
    {
      "cell_type": "markdown",
      "source": [
        "**9. List Comprehension:**"
      ],
      "metadata": {
        "id": "TQaiXU1X_yzW"
      }
    },
    {
      "cell_type": "code",
      "source": [
        "squares = [i ** 2 for i in range(10)]\n",
        "print(\"Squares:\",squares)"
      ],
      "metadata": {
        "colab": {
          "base_uri": "https://localhost:8080/"
        },
        "id": "HU0Zdvfm_yhE",
        "outputId": "ce83e4eb-c046-43bd-ed70-eeb487558b02"
      },
      "execution_count": null,
      "outputs": [
        {
          "output_type": "stream",
          "name": "stdout",
          "text": [
            "Squares: [0, 1, 4, 9, 16, 25, 36, 49, 64, 81]\n"
          ]
        }
      ]
    },
    {
      "cell_type": "markdown",
      "source": [
        "**10. Simple File Handling:**"
      ],
      "metadata": {
        "id": "eFbAjOimA1wo"
      }
    },
    {
      "cell_type": "code",
      "source": [
        "# Writing to a file\n",
        "with open(\"output.txt\",\"w\")as file:\n",
        "  file.write(\"Hello, this is a sample text that will be written to the file.\")\n",
        "\n",
        "# Reading from a file\n",
        "with open(\"output.txt\", \"r\") as file:\n",
        "  text = file.read()\n",
        "  print(\"Text from file:\",text)"
      ],
      "metadata": {
        "colab": {
          "base_uri": "https://localhost:8080/"
        },
        "id": "teDSpGa2BWyZ",
        "outputId": "a733cfbc-bdd2-4ea8-98c4-f8f64b1f7806"
      },
      "execution_count": null,
      "outputs": [
        {
          "output_type": "stream",
          "name": "stdout",
          "text": [
            "Text from file: Hello, this is a sample text that will be written to the file.\n"
          ]
        }
      ]
    },
    {
      "cell_type": "markdown",
      "source": [
        "**11. Check for Palindrome:**"
      ],
      "metadata": {
        "id": "EIgrIRl7B957"
      }
    },
    {
      "cell_type": "code",
      "source": [
        "def is_palindrome(s):\n",
        "  return s==s[::-1]\n",
        "\n",
        "string = input(\"Enter a string: \")\n",
        "if is_palindrome(string):\n",
        "  print(\"The entered string is a palindrome.\")\n",
        "else:\n",
        "  print(\"The entered string is not a palindrome.\")"
      ],
      "metadata": {
        "colab": {
          "base_uri": "https://localhost:8080/"
        },
        "id": "LaRiWzg5CB1l",
        "outputId": "7a12bbdb-f80d-4800-c077-6e1b72e5c506"
      },
      "execution_count": null,
      "outputs": [
        {
          "output_type": "stream",
          "name": "stdout",
          "text": [
            "Enter a string: noon\n",
            "The entered string is a palindrome.\n"
          ]
        }
      ]
    },
    {
      "cell_type": "markdown",
      "source": [
        "**12. Simple String Operations:**"
      ],
      "metadata": {
        "id": "DR9ro930Yyos"
      }
    },
    {
      "cell_type": "code",
      "source": [
        "string = \"Hello World!\"\n",
        "print(\"Upper Case:\",string.upper())\n",
        "print(\"Lower Case:\",string.lower())\n",
        "print(\"Length of the string:\",len(string))\n",
        "print(\"Reversed string:\",string[::-1])"
      ],
      "metadata": {
        "colab": {
          "base_uri": "https://localhost:8080/"
        },
        "id": "knzUjgQFY8xb",
        "outputId": "8da6be50-beed-40c9-ba3b-52fd892fc59e"
      },
      "execution_count": null,
      "outputs": [
        {
          "output_type": "stream",
          "name": "stdout",
          "text": [
            "Upper Case: HELLO WORLD!\n",
            "Lower Case: hello world!\n",
            "Length of the string: 12\n",
            "Reversed string: !dlroW olleH\n"
          ]
        }
      ]
    },
    {
      "cell_type": "markdown",
      "source": [
        "**13. Find the largest among three numbers:**"
      ],
      "metadata": {
        "id": "b63y4XBbZpOD"
      }
    },
    {
      "cell_type": "code",
      "source": [
        "num1 = float(input(\"Enter the first number:\"))\n",
        "num2 = float(input(\"Enter the second number:\"))\n",
        "num3 = float(input(\"Enter the third number:\"))\n",
        "max = max(num1, num2, num3)\n",
        "print(\"Maximum number:\", max)"
      ],
      "metadata": {
        "colab": {
          "base_uri": "https://localhost:8080/"
        },
        "id": "DeLz1tsAZyqZ",
        "outputId": "6b8aac54-24e6-441c-808a-c38ee8f899a6"
      },
      "execution_count": null,
      "outputs": [
        {
          "output_type": "stream",
          "name": "stdout",
          "text": [
            "Enter the first number:5\n",
            "Enter the second number:8\n",
            "Enter the third number:10\n",
            "Maximum number: 10.0\n"
          ]
        }
      ]
    },
    {
      "cell_type": "markdown",
      "source": [
        "**14. Convert Celsius to Fahrenheit:**"
      ],
      "metadata": {
        "id": "WJj24O6ga17b"
      }
    },
    {
      "cell_type": "code",
      "source": [
        "celsius = float(input(\"Enter temperature in Celsius:\"))\n",
        "fahrenheit = (celsius * 9/5) + 32\n",
        "print(\"Temperature in Fahrenheit:\", fahrenheit)"
      ],
      "metadata": {
        "colab": {
          "base_uri": "https://localhost:8080/"
        },
        "id": "RoEiusjgbAMw",
        "outputId": "6f469334-f2d6-45e8-edb7-e79f0fbe1284"
      },
      "execution_count": null,
      "outputs": [
        {
          "output_type": "stream",
          "name": "stdout",
          "text": [
            "Enter temperature in Celsius:30.6\n",
            "Temperature in Fahrenheit: 87.08000000000001\n"
          ]
        }
      ]
    },
    {
      "cell_type": "markdown",
      "source": [
        "**15. Print Multiplication Table:**"
      ],
      "metadata": {
        "id": "FkXegxkMbKb3"
      }
    },
    {
      "cell_type": "code",
      "source": [
        "num = int(input(\"Enter any number: \"))\n",
        "for i in range (1,11):\n",
        "  print(num, \"x\", i, \"=\", num*i)"
      ],
      "metadata": {
        "colab": {
          "base_uri": "https://localhost:8080/"
        },
        "id": "MMMxUkubbPBA",
        "outputId": "7f260fef-4f16-4d86-9157-6c13b5810cb5"
      },
      "execution_count": null,
      "outputs": [
        {
          "output_type": "stream",
          "name": "stdout",
          "text": [
            "Enter any number: 5\n",
            "5 x 1 = 5\n",
            "5 x 2 = 10\n",
            "5 x 3 = 15\n",
            "5 x 4 = 20\n",
            "5 x 5 = 25\n",
            "5 x 6 = 30\n",
            "5 x 7 = 35\n",
            "5 x 8 = 40\n",
            "5 x 9 = 45\n",
            "5 x 10 = 50\n"
          ]
        }
      ]
    },
    {
      "cell_type": "markdown",
      "source": [
        "**16. Count vowels in a string:**"
      ],
      "metadata": {
        "id": "gcaS7yVA9OAj"
      }
    },
    {
      "cell_type": "code",
      "source": [
        "def count_vowels(s):\n",
        "  vowels = 'aeiouAEIOU'\n",
        "  count = 0\n",
        "  for char in s:\n",
        "    if char in vowels:\n",
        "      count += 1\n",
        "  return count\n",
        "\n",
        "string = input(\"Enter any string: \")\n",
        "vowel_count = count_vowels(string)\n",
        "print(\"Number of vowels:\",vowel_count)"
      ],
      "metadata": {
        "colab": {
          "base_uri": "https://localhost:8080/"
        },
        "id": "YF0gtAPn9Tvp",
        "outputId": "586c1958-4378-4a2f-bd80-94a03c8f384a"
      },
      "execution_count": null,
      "outputs": [
        {
          "output_type": "stream",
          "name": "stdout",
          "text": [
            "Enter any string: Moiz\n",
            "Number of vowels: 2\n"
          ]
        }
      ]
    },
    {
      "cell_type": "markdown",
      "source": [
        "**17. Check Leap Year:**"
      ],
      "metadata": {
        "id": "OplwYKfY-H7A"
      }
    },
    {
      "cell_type": "code",
      "source": [
        "def is_leap(year):\n",
        "  if (year % 4 == 0 and year % 100 != 0) or (year % 400 == 0):\n",
        "    return True\n",
        "  return False\n",
        "\n",
        "year = int(input(\"Enter a year: \"))\n",
        "if is_leap(year):\n",
        "  print(\"Leap year\")\n",
        "else:\n",
        "  print(\"Not a leap year\")"
      ],
      "metadata": {
        "colab": {
          "base_uri": "https://localhost:8080/"
        },
        "id": "nzEJtb_3-PF3",
        "outputId": "c5b8b8f9-e811-49c9-bb85-a9551d154d58"
      },
      "execution_count": null,
      "outputs": [
        {
          "output_type": "stream",
          "name": "stdout",
          "text": [
            "Enter a year: 2024\n",
            "Leap year\n"
          ]
        }
      ]
    },
    {
      "cell_type": "markdown",
      "source": [
        "**18. Find the LCM of two numbers:**"
      ],
      "metadata": {
        "id": "6uKZRrA6-6VJ"
      }
    },
    {
      "cell_type": "code",
      "source": [
        "def calculate_lcm(x,y):\n",
        "  if x > y:\n",
        "    greater = x\n",
        "  else:\n",
        "    greater = y\n",
        "  while True:\n",
        "    if greater % x == 0 and greater % y == 0:\n",
        "      lcm = greater\n",
        "      break\n",
        "    greater+=1\n",
        "  return lcm\n",
        "\n",
        "num1 = int(input(\"Enter the first number: \"))\n",
        "num2 = int(input(\"Enter the second number: \"))\n",
        "print(\"LCM:\",calculate_lcm(num1, num2))"
      ],
      "metadata": {
        "colab": {
          "base_uri": "https://localhost:8080/"
        },
        "id": "xuuXmMYs_AQA",
        "outputId": "276c0cc0-c45d-4842-fb41-91ac6c1e80da"
      },
      "execution_count": null,
      "outputs": [
        {
          "output_type": "stream",
          "name": "stdout",
          "text": [
            "Enter the first number: 2\n",
            "Enter the second number: 3\n",
            "LCM: 6\n"
          ]
        }
      ]
    },
    {
      "cell_type": "markdown",
      "source": [
        "**19. Bubble Sort Algoritm:**"
      ],
      "metadata": {
        "id": "r1wf8j0cAHL5"
      }
    },
    {
      "cell_type": "code",
      "source": [
        "def bubble_sort(arr):\n",
        "  n=len(arr)\n",
        "  for i in range(n-1):\n",
        "    for j in range(0, n-i-1):\n",
        "      if arr[j]>arr[j+i]:\n",
        "        arr[j], arr[j+1] = arr[j+1], arr[j]\n",
        "\n",
        "arr = [64,34,25,12,22,11,90]\n",
        "bubble_sort(arr)\n",
        "print(\"Sorted Array: \",arr)"
      ],
      "metadata": {
        "colab": {
          "base_uri": "https://localhost:8080/"
        },
        "id": "QH-OaRoeAOAe",
        "outputId": "a37fa7cb-5391-4ff2-a858-28061c5f66cc"
      },
      "execution_count": null,
      "outputs": [
        {
          "output_type": "stream",
          "name": "stdout",
          "text": [
            "Sorted Array:  [22, 25, 12, 34, 11, 64, 90]\n"
          ]
        }
      ]
    },
    {
      "cell_type": "markdown",
      "source": [],
      "metadata": {
        "id": "3bkHAJjK4_IE"
      }
    }
  ]
}